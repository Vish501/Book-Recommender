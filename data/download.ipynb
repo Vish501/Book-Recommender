{
 "cells": [
  {
   "cell_type": "markdown",
   "id": "fbfa24ec",
   "metadata": {},
   "source": [
    "File to help download the required dataset from `kaggle.com`"
   ]
  },
  {
   "cell_type": "code",
   "execution_count": 7,
   "id": "52ed33ce",
   "metadata": {},
   "outputs": [
    {
     "name": "stdout",
     "output_type": "stream",
     "text": [
      "Done\n"
     ]
    }
   ],
   "source": [
    "import kagglehub\n",
    "import shutil\n",
    "import os\n",
    "\n",
    "# Loading the environment variables from .env to access the Kaggle Directory locally stored on the machine\n",
    "os.environ[\"KAGGLE_CONFIG_DIR\"] = os.environ.get(\"KAGGLE_CONFIG_DIR\")\n",
    "\n",
    "# Download and cache the dataset\n",
    "path = kagglehub.dataset_download(\"dylanjcastillo/7k-books-with-metadata\")\n",
    "\n",
    "# Defining target folder\n",
    "target_folder = os.getcwd()\n",
    "\n",
    "# Copying contents to current folder\n",
    "shutil.copytree(path, target_folder, dirs_exist_ok=True)\n",
    "\n",
    "print('Done')"
   ]
  }
 ],
 "metadata": {
  "kernelspec": {
   "display_name": "Python 3",
   "language": "python",
   "name": "python3"
  },
  "language_info": {
   "codemirror_mode": {
    "name": "ipython",
    "version": 3
   },
   "file_extension": ".py",
   "mimetype": "text/x-python",
   "name": "python",
   "nbconvert_exporter": "python",
   "pygments_lexer": "ipython3",
   "version": "3.11.11"
  }
 },
 "nbformat": 4,
 "nbformat_minor": 5
}
