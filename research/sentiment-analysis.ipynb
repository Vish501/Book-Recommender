{
 "cells": [
  {
   "cell_type": "markdown",
   "id": "f1b1a014",
   "metadata": {},
   "source": [
    "Classifying the books into 7 emotional categories (Ekman's six + neutral) for a refined search experience\n",
    "\n",
    "Emotions: \"anger\", \"disgust\", \"fear\", \"joy\", \"sadness\", \"surprise\", \"neutral\""
   ]
  },
  {
   "cell_type": "markdown",
   "id": "80da0939",
   "metadata": {},
   "source": [
    "# Importing Dataset"
   ]
  },
  {
   "cell_type": "code",
   "execution_count": 4,
   "id": "93fb7558",
   "metadata": {},
   "outputs": [],
   "source": [
    "import os\n",
    "\n",
    "# Changing directory to main directory for easy data access\n",
    "working_directory = os.getenv(\"WORKING_DIRECTORY\")\n",
    "os.chdir(working_directory)\n",
    "\n",
    "# Disabling error warning\n",
    "os.environ[\"HF_HUB_DISABLE_SYMLINKS_WARNING\"] = \"1\""
   ]
  },
  {
   "cell_type": "code",
   "execution_count": 2,
   "id": "6897540a",
   "metadata": {},
   "outputs": [
    {
     "name": "stdout",
     "output_type": "stream",
     "text": [
      "(5197, 14)\n"
     ]
    },
    {
     "data": {
      "text/html": [
       "<div>\n",
       "<style scoped>\n",
       "    .dataframe tbody tr th:only-of-type {\n",
       "        vertical-align: middle;\n",
       "    }\n",
       "\n",
       "    .dataframe tbody tr th {\n",
       "        vertical-align: top;\n",
       "    }\n",
       "\n",
       "    .dataframe thead th {\n",
       "        text-align: right;\n",
       "    }\n",
       "</style>\n",
       "<table border=\"1\" class=\"dataframe\">\n",
       "  <thead>\n",
       "    <tr style=\"text-align: right;\">\n",
       "      <th></th>\n",
       "      <th>isbn13</th>\n",
       "      <th>isbn10</th>\n",
       "      <th>title</th>\n",
       "      <th>authors</th>\n",
       "      <th>categories</th>\n",
       "      <th>thumbnail</th>\n",
       "      <th>description</th>\n",
       "      <th>published_year</th>\n",
       "      <th>average_rating</th>\n",
       "      <th>num_pages</th>\n",
       "      <th>ratings_count</th>\n",
       "      <th>words_in_description</th>\n",
       "      <th>title_and_subtitle</th>\n",
       "      <th>base_categories</th>\n",
       "    </tr>\n",
       "  </thead>\n",
       "  <tbody>\n",
       "    <tr>\n",
       "      <th>0</th>\n",
       "      <td>9780002005883</td>\n",
       "      <td>0002005883</td>\n",
       "      <td>Gilead</td>\n",
       "      <td>Marilynne Robinson</td>\n",
       "      <td>Fiction</td>\n",
       "      <td>http://books.google.com/books/content?id=KQZCP...</td>\n",
       "      <td>A NOVEL THAT READERS and critics have been eag...</td>\n",
       "      <td>2004.0</td>\n",
       "      <td>3.85</td>\n",
       "      <td>247.0</td>\n",
       "      <td>361.0</td>\n",
       "      <td>199</td>\n",
       "      <td>Gilead</td>\n",
       "      <td>Fiction</td>\n",
       "    </tr>\n",
       "    <tr>\n",
       "      <th>1</th>\n",
       "      <td>9780002261982</td>\n",
       "      <td>0002261987</td>\n",
       "      <td>Spider's Web</td>\n",
       "      <td>Charles Osborne;Agatha Christie</td>\n",
       "      <td>Detective and mystery stories</td>\n",
       "      <td>http://books.google.com/books/content?id=gA5GP...</td>\n",
       "      <td>A new 'Christie for Christmas' -- a full-lengt...</td>\n",
       "      <td>2000.0</td>\n",
       "      <td>3.83</td>\n",
       "      <td>241.0</td>\n",
       "      <td>5164.0</td>\n",
       "      <td>205</td>\n",
       "      <td>Spider's Web: A Novel</td>\n",
       "      <td>Fiction</td>\n",
       "    </tr>\n",
       "  </tbody>\n",
       "</table>\n",
       "</div>"
      ],
      "text/plain": [
       "          isbn13      isbn10         title                          authors  \\\n",
       "0  9780002005883  0002005883        Gilead               Marilynne Robinson   \n",
       "1  9780002261982  0002261987  Spider's Web  Charles Osborne;Agatha Christie   \n",
       "\n",
       "                      categories  \\\n",
       "0                        Fiction   \n",
       "1  Detective and mystery stories   \n",
       "\n",
       "                                           thumbnail  \\\n",
       "0  http://books.google.com/books/content?id=KQZCP...   \n",
       "1  http://books.google.com/books/content?id=gA5GP...   \n",
       "\n",
       "                                         description  published_year  \\\n",
       "0  A NOVEL THAT READERS and critics have been eag...          2004.0   \n",
       "1  A new 'Christie for Christmas' -- a full-lengt...          2000.0   \n",
       "\n",
       "   average_rating  num_pages  ratings_count  words_in_description  \\\n",
       "0            3.85      247.0          361.0                   199   \n",
       "1            3.83      241.0         5164.0                   205   \n",
       "\n",
       "      title_and_subtitle base_categories  \n",
       "0                 Gilead         Fiction  \n",
       "1  Spider's Web: A Novel         Fiction  "
      ]
     },
     "execution_count": 2,
     "metadata": {},
     "output_type": "execute_result"
    }
   ],
   "source": [
    "import pandas as pd\n",
    "\n",
    "# Loading is data previously cleaned data\n",
    "path = 'data/books_classified.csv'\n",
    "books = pd.read_csv(path)\n",
    "\n",
    "# Printing the data to check validity\n",
    "print(books.shape)\n",
    "books.head(2)"
   ]
  },
  {
   "cell_type": "markdown",
   "id": "bf2d35c0",
   "metadata": {},
   "source": [
    "# Pipeline"
   ]
  },
  {
   "cell_type": "code",
   "execution_count": null,
   "id": "ae25c108",
   "metadata": {},
   "outputs": [
    {
     "name": "stderr",
     "output_type": "stream",
     "text": [
      "Device set to use cpu\n"
     ]
    },
    {
     "data": {
      "text/plain": [
       "[[{'label': 'joy', 'score': 0.9771687984466553},\n",
       "  {'label': 'surprise', 'score': 0.008528691716492176},\n",
       "  {'label': 'neutral', 'score': 0.005764589179307222},\n",
       "  {'label': 'anger', 'score': 0.004419791977852583},\n",
       "  {'label': 'sadness', 'score': 0.002092393347993493},\n",
       "  {'label': 'disgust', 'score': 0.001611992483958602},\n",
       "  {'label': 'fear', 'score': 0.0004138525982853025}]]"
      ]
     },
     "execution_count": 5,
     "metadata": {},
     "output_type": "execute_result"
    }
   ],
   "source": [
    "from transformers import pipeline\n",
    "\n",
    "# top_k set to `None` since we want all the labels\n",
    "sentiment_classifier = pipeline(task=\"text-classification\",\n",
    "                                model=\"j-hartmann/emotion-english-distilroberta-base\",\n",
    "                                top_k=None)\n",
    "\n",
    "# Test\n",
    "sentiment_classifier(\"I love this!\")"
   ]
  },
  {
   "cell_type": "code",
   "execution_count": 12,
   "id": "6e719f15",
   "metadata": {},
   "outputs": [
    {
     "name": "stdout",
     "output_type": "stream",
     "text": [
      "This is horrible!: [[{'label': 'disgust', 'score': 0.48886463046073914}, {'label': 'fear', 'score': 0.4316416084766388}, {'label': 'anger', 'score': 0.02577614225447178}, {'label': 'surprise', 'score': 0.02349361777305603}, {'label': 'sadness', 'score': 0.0183604434132576}, {'label': 'neutral', 'score': 0.009904485195875168}, {'label': 'joy', 'score': 0.0019590831361711025}]]\n",
      "This is horrible!!!: [[{'label': 'fear', 'score': 0.5684544444084167}, {'label': 'disgust', 'score': 0.3261587917804718}, {'label': 'surprise', 'score': 0.03909299895167351}, {'label': 'anger', 'score': 0.0317532904446125}, {'label': 'sadness', 'score': 0.0193428136408329}, {'label': 'neutral', 'score': 0.012686503119766712}, {'label': 'joy', 'score': 0.002511194907128811}]]\n"
     ]
    }
   ],
   "source": [
    "# Test\n",
    "print(f'This is horrible!: {sentiment_classifier(\"This is horrible!\")}')\n",
    "print(f'This is horrible!!!: {sentiment_classifier(\"This is horrible!!!\")}')"
   ]
  },
  {
   "cell_type": "code",
   "execution_count": 15,
   "id": "0ea017a5",
   "metadata": {},
   "outputs": [
    {
     "name": "stdout",
     "output_type": "stream",
     "text": [
      "A NOVEL THAT READERS and critics have been eagerly anticipating for over a decade, Gilead is an astonishingly imagined story of remarkable lives. John Ames is a preacher, the son of a preacher and the grandson (both maternal and paternal) of preachers. It’s 1956 in Gilead, Iowa, towards the end of the Reverend Ames’s life, and he is absorbed in recording his family’s story, a legacy for the young son he will never see grow up. Haunted by his grandfather’s presence, John tells of the rift between his grandfather and his father: the elder, an angry visionary who fought for the abolitionist cause, and his son, an ardent pacifist. He is troubled, too, by his prodigal namesake, Jack (John Ames) Boughton, his best friend’s lost son who returns to Gilead searching for forgiveness and redemption. Told in John Ames’s joyous, rambling voice that finds beauty, humour and truth in the smallest of life’s details, Gilead is a song of celebration and acceptance of the best and the worst the world has to offer. At its heart is a tale of the sacred bonds between fathers and sons, pitch-perfect in style and story, set to dazzle critics and readers alike.\n"
     ]
    },
    {
     "data": {
      "text/plain": [
       "[[{'label': 'fear', 'score': 0.6548399925231934},\n",
       "  {'label': 'neutral', 'score': 0.1698525995016098},\n",
       "  {'label': 'sadness', 'score': 0.11640939861536026},\n",
       "  {'label': 'surprise', 'score': 0.02070068009197712},\n",
       "  {'label': 'disgust', 'score': 0.019100721925497055},\n",
       "  {'label': 'joy', 'score': 0.015161462128162384},\n",
       "  {'label': 'anger', 'score': 0.003935154061764479}]]"
      ]
     },
     "execution_count": 15,
     "metadata": {},
     "output_type": "execute_result"
    }
   ],
   "source": [
    "# Testing on the dataset\n",
    "print(books[\"description\"][0])\n",
    "sentiment_classifier(books[\"description\"][0])"
   ]
  },
  {
   "cell_type": "markdown",
   "id": "f4b5e160",
   "metadata": {},
   "source": [
    "# Improving Classification"
   ]
  },
  {
   "cell_type": "markdown",
   "id": "f14fb425",
   "metadata": {},
   "source": [
    "This does not seem to be properly representing the description, as such trying to split the paragraph into individual sentences. We will take this sentences and classify them. Using the outputed result, we will find the max value for each emotion and return an output with only them."
   ]
  },
  {
   "cell_type": "code",
   "execution_count": null,
   "id": "f7242dc3",
   "metadata": {},
   "outputs": [],
   "source": [
    "# Testing the idea\n",
    "sentences = books[\"description\"][0].split(\".\")\n",
    "preds = sentiment_classifier(sentences)"
   ]
  },
  {
   "cell_type": "code",
   "execution_count": null,
   "id": "09cda956",
   "metadata": {},
   "outputs": [
    {
     "name": "stdout",
     "output_type": "stream",
     "text": [
      "A NOVEL THAT READERS and critics have been eagerly anticipating for over a decade, Gilead is an astonishingly imagined story of remarkable lives\n"
     ]
    },
    {
     "data": {
      "text/plain": [
       "[{'label': 'surprise', 'score': 0.7296021580696106},\n",
       " {'label': 'neutral', 'score': 0.14038598537445068},\n",
       " {'label': 'fear', 'score': 0.06816227734088898},\n",
       " {'label': 'joy', 'score': 0.04794260486960411},\n",
       " {'label': 'anger', 'score': 0.009156367741525173},\n",
       " {'label': 'disgust', 'score': 0.0026284768246114254},\n",
       " {'label': 'sadness', 'score': 0.002122163772583008}]"
      ]
     },
     "execution_count": 19,
     "metadata": {},
     "output_type": "execute_result"
    }
   ],
   "source": [
    "# Test\n",
    "print(sentences[0])\n",
    "preds[0]"
   ]
  },
  {
   "cell_type": "code",
   "execution_count": null,
   "id": "14c526ba",
   "metadata": {},
   "outputs": [
    {
     "name": "stdout",
     "output_type": "stream",
     "text": [
      " Haunted by his grandfather’s presence, John tells of the rift between his grandfather and his father: the elder, an angry visionary who fought for the abolitionist cause, and his son, an ardent pacifist\n"
     ]
    },
    {
     "data": {
      "text/plain": [
       "[{'label': 'fear', 'score': 0.9281682968139648},\n",
       " {'label': 'anger', 'score': 0.03219081461429596},\n",
       " {'label': 'neutral', 'score': 0.012808660045266151},\n",
       " {'label': 'sadness', 'score': 0.008756875991821289},\n",
       " {'label': 'surprise', 'score': 0.008597892709076405},\n",
       " {'label': 'disgust', 'score': 0.008431807160377502},\n",
       " {'label': 'joy', 'score': 0.0010455832816660404}]"
      ]
     },
     "execution_count": 20,
     "metadata": {},
     "output_type": "execute_result"
    }
   ],
   "source": [
    "# Test\n",
    "print(sentences[3])\n",
    "preds[3]"
   ]
  },
  {
   "cell_type": "code",
   "execution_count": 33,
   "id": "ab188041",
   "metadata": {},
   "outputs": [],
   "source": [
    "import numpy as np\n",
    "\n",
    "emotion_labels = [\"anger\", \"disgust\", \"fear\", \"joy\", \"sadness\", \"surprise\", \"neutral\"]\n",
    "\n",
    "# Processes a list of emotion prediction outputs and returns a dictionary\n",
    "# containing the maximum score observed for each emotion label.\n",
    "def calculate_max_scores(predictions, emotion_labels=emotion_labels):\n",
    "    emotion_score_individual = {label : [] for label in emotion_labels}\n",
    "    for prediction in predictions:\n",
    "        for emotion in prediction:\n",
    "            emotion_score_individual[emotion[\"label\"]].append(emotion[\"score\"])\n",
    "    return {label: np.max(scores) for label, scores in emotion_score_individual.items()}"
   ]
  },
  {
   "cell_type": "code",
   "execution_count": 34,
   "id": "8e4de7ad",
   "metadata": {},
   "outputs": [
    {
     "data": {
      "text/plain": [
       "{'sadness': np.float64(0.9671575427055359),\n",
       " 'joy': np.float64(0.9327981472015381),\n",
       " 'fear': np.float64(0.9281682968139648),\n",
       " 'surprise': np.float64(0.7296021580696106),\n",
       " 'neutral': np.float64(0.6462159156799316),\n",
       " 'disgust': np.float64(0.27359113097190857),\n",
       " 'anger': np.float64(0.06413363665342331)}"
      ]
     },
     "execution_count": 34,
     "metadata": {},
     "output_type": "execute_result"
    }
   ],
   "source": [
    "# Test\n",
    "dict(sorted(calculate_max_scores(predictions=preds).items(), key=lambda x: x[1], reverse=True))"
   ]
  },
  {
   "cell_type": "code",
   "execution_count": null,
   "id": "3fccbb8a",
   "metadata": {},
   "outputs": [],
   "source": [
    "from tqdm import tqdm \n",
    "\n",
    "# Predicts emotion scores for a given number of book descriptions.\n",
    "# For each description:\n",
    "#   - It splits the text into sentences.\n",
    "#   - Applies the emotion classifier to each sentence.\n",
    "#   - Aggregates the predictions and selects the maximum score per emotion.\n",
    "# The result is a dictionary mapping each emotion to a list of max scores (one per book),\n",
    "# along with the corresponding list of ISBNs.\n",
    "def predict_emotions(dataset, size=5, emotion_labels=emotion_labels, model=sentiment_classifier):\n",
    "    isbns = dataset[\"isbn13\"][:size]\n",
    "    emotion_scores = {label : [] for label in emotion_labels}\n",
    "    for idx in tqdm(range(size)):\n",
    "        predictions = model(dataset[\"description\"][idx].split(\".\"))\n",
    "        predictions_max_scores = calculate_max_scores(predictions)\n",
    "        for label in emotion_labels:\n",
    "            emotion_scores[label].append(predictions_max_scores[label])\n",
    "    return isbns, emotion_scores"
   ]
  },
  {
   "cell_type": "code",
   "execution_count": 42,
   "id": "3600db52",
   "metadata": {},
   "outputs": [
    {
     "name": "stderr",
     "output_type": "stream",
     "text": [
      "100%|██████████| 5/5 [00:04<00:00,  1.04it/s]\n"
     ]
    },
    {
     "data": {
      "text/html": [
       "<div>\n",
       "<style scoped>\n",
       "    .dataframe tbody tr th:only-of-type {\n",
       "        vertical-align: middle;\n",
       "    }\n",
       "\n",
       "    .dataframe tbody tr th {\n",
       "        vertical-align: top;\n",
       "    }\n",
       "\n",
       "    .dataframe thead th {\n",
       "        text-align: right;\n",
       "    }\n",
       "</style>\n",
       "<table border=\"1\" class=\"dataframe\">\n",
       "  <thead>\n",
       "    <tr style=\"text-align: right;\">\n",
       "      <th></th>\n",
       "      <th>anger</th>\n",
       "      <th>disgust</th>\n",
       "      <th>fear</th>\n",
       "      <th>joy</th>\n",
       "      <th>sadness</th>\n",
       "      <th>surprise</th>\n",
       "      <th>neutral</th>\n",
       "      <th>isbn13</th>\n",
       "    </tr>\n",
       "  </thead>\n",
       "  <tbody>\n",
       "    <tr>\n",
       "      <th>0</th>\n",
       "      <td>0.064134</td>\n",
       "      <td>0.273591</td>\n",
       "      <td>0.928168</td>\n",
       "      <td>0.932798</td>\n",
       "      <td>0.967158</td>\n",
       "      <td>0.729602</td>\n",
       "      <td>0.646216</td>\n",
       "      <td>9780002005883</td>\n",
       "    </tr>\n",
       "    <tr>\n",
       "      <th>1</th>\n",
       "      <td>0.612619</td>\n",
       "      <td>0.348284</td>\n",
       "      <td>0.942528</td>\n",
       "      <td>0.704422</td>\n",
       "      <td>0.111690</td>\n",
       "      <td>0.252546</td>\n",
       "      <td>0.887940</td>\n",
       "      <td>9780002261982</td>\n",
       "    </tr>\n",
       "    <tr>\n",
       "      <th>2</th>\n",
       "      <td>0.064134</td>\n",
       "      <td>0.104007</td>\n",
       "      <td>0.972321</td>\n",
       "      <td>0.767239</td>\n",
       "      <td>0.111690</td>\n",
       "      <td>0.078765</td>\n",
       "      <td>0.549477</td>\n",
       "      <td>9780006178736</td>\n",
       "    </tr>\n",
       "    <tr>\n",
       "      <th>3</th>\n",
       "      <td>0.351485</td>\n",
       "      <td>0.150722</td>\n",
       "      <td>0.360705</td>\n",
       "      <td>0.251882</td>\n",
       "      <td>0.111690</td>\n",
       "      <td>0.078765</td>\n",
       "      <td>0.732685</td>\n",
       "      <td>9780006280897</td>\n",
       "    </tr>\n",
       "    <tr>\n",
       "      <th>4</th>\n",
       "      <td>0.081412</td>\n",
       "      <td>0.184496</td>\n",
       "      <td>0.095043</td>\n",
       "      <td>0.040564</td>\n",
       "      <td>0.475880</td>\n",
       "      <td>0.078765</td>\n",
       "      <td>0.884390</td>\n",
       "      <td>9780006280934</td>\n",
       "    </tr>\n",
       "  </tbody>\n",
       "</table>\n",
       "</div>"
      ],
      "text/plain": [
       "      anger   disgust      fear       joy   sadness  surprise   neutral  \\\n",
       "0  0.064134  0.273591  0.928168  0.932798  0.967158  0.729602  0.646216   \n",
       "1  0.612619  0.348284  0.942528  0.704422  0.111690  0.252546  0.887940   \n",
       "2  0.064134  0.104007  0.972321  0.767239  0.111690  0.078765  0.549477   \n",
       "3  0.351485  0.150722  0.360705  0.251882  0.111690  0.078765  0.732685   \n",
       "4  0.081412  0.184496  0.095043  0.040564  0.475880  0.078765  0.884390   \n",
       "\n",
       "          isbn13  \n",
       "0  9780002005883  \n",
       "1  9780002261982  \n",
       "2  9780006178736  \n",
       "3  9780006280897  \n",
       "4  9780006280934  "
      ]
     },
     "execution_count": 42,
     "metadata": {},
     "output_type": "execute_result"
    }
   ],
   "source": [
    "# Testing the function `predict_emotions`\n",
    "isbns, emotion_scores = predict_emotions(books, size=5)\n",
    "\n",
    "# Converting the result into a dataframe\n",
    "test_output = pd.DataFrame(emotion_scores)\n",
    "test_output[\"isbn13\"] = isbns\n",
    "\n",
    "# Printing the dataframe to validate the outputs\n",
    "test_output"
   ]
  },
  {
   "cell_type": "code",
   "execution_count": 43,
   "id": "fcb62519",
   "metadata": {},
   "outputs": [
    {
     "name": "stderr",
     "output_type": "stream",
     "text": [
      "100%|██████████| 5197/5197 [30:17<00:00,  2.86it/s]   \n"
     ]
    },
    {
     "data": {
      "text/html": [
       "<div>\n",
       "<style scoped>\n",
       "    .dataframe tbody tr th:only-of-type {\n",
       "        vertical-align: middle;\n",
       "    }\n",
       "\n",
       "    .dataframe tbody tr th {\n",
       "        vertical-align: top;\n",
       "    }\n",
       "\n",
       "    .dataframe thead th {\n",
       "        text-align: right;\n",
       "    }\n",
       "</style>\n",
       "<table border=\"1\" class=\"dataframe\">\n",
       "  <thead>\n",
       "    <tr style=\"text-align: right;\">\n",
       "      <th></th>\n",
       "      <th>anger</th>\n",
       "      <th>disgust</th>\n",
       "      <th>fear</th>\n",
       "      <th>joy</th>\n",
       "      <th>sadness</th>\n",
       "      <th>surprise</th>\n",
       "      <th>neutral</th>\n",
       "      <th>isbn13</th>\n",
       "    </tr>\n",
       "  </thead>\n",
       "  <tbody>\n",
       "    <tr>\n",
       "      <th>0</th>\n",
       "      <td>0.064134</td>\n",
       "      <td>0.273591</td>\n",
       "      <td>0.928168</td>\n",
       "      <td>0.932798</td>\n",
       "      <td>0.967158</td>\n",
       "      <td>0.729602</td>\n",
       "      <td>0.646216</td>\n",
       "      <td>9780002005883</td>\n",
       "    </tr>\n",
       "    <tr>\n",
       "      <th>1</th>\n",
       "      <td>0.612619</td>\n",
       "      <td>0.348284</td>\n",
       "      <td>0.942528</td>\n",
       "      <td>0.704422</td>\n",
       "      <td>0.111690</td>\n",
       "      <td>0.252546</td>\n",
       "      <td>0.887940</td>\n",
       "      <td>9780002261982</td>\n",
       "    </tr>\n",
       "  </tbody>\n",
       "</table>\n",
       "</div>"
      ],
      "text/plain": [
       "      anger   disgust      fear       joy   sadness  surprise   neutral  \\\n",
       "0  0.064134  0.273591  0.928168  0.932798  0.967158  0.729602  0.646216   \n",
       "1  0.612619  0.348284  0.942528  0.704422  0.111690  0.252546  0.887940   \n",
       "\n",
       "          isbn13  \n",
       "0  9780002005883  \n",
       "1  9780002261982  "
      ]
     },
     "execution_count": 43,
     "metadata": {},
     "output_type": "execute_result"
    }
   ],
   "source": [
    "# Running on main dataset\n",
    "isbns, emotion_scores = predict_emotions(books, size=len(books))\n",
    "\n",
    "# Converting the result into a temp dataframe that can be later joined\n",
    "# to the main dataset for usage\n",
    "books_emotions_temp = pd.DataFrame(emotion_scores)\n",
    "books_emotions_temp[\"isbn13\"] = isbns\n",
    "\n",
    "# Printing the dataframe\n",
    "books_emotions_temp.head(2)"
   ]
  },
  {
   "cell_type": "code",
   "execution_count": 45,
   "id": "5b4df3a9",
   "metadata": {},
   "outputs": [],
   "source": [
    "# Merging `books` and `books_emotions_temp`\n",
    "books_emotions = pd.merge(books, books_emotions_temp, on=\"isbn13\", how=\"left\")"
   ]
  },
  {
   "cell_type": "code",
   "execution_count": 46,
   "id": "ec63ad95",
   "metadata": {},
   "outputs": [
    {
     "data": {
      "text/html": [
       "<div>\n",
       "<style scoped>\n",
       "    .dataframe tbody tr th:only-of-type {\n",
       "        vertical-align: middle;\n",
       "    }\n",
       "\n",
       "    .dataframe tbody tr th {\n",
       "        vertical-align: top;\n",
       "    }\n",
       "\n",
       "    .dataframe thead th {\n",
       "        text-align: right;\n",
       "    }\n",
       "</style>\n",
       "<table border=\"1\" class=\"dataframe\">\n",
       "  <thead>\n",
       "    <tr style=\"text-align: right;\">\n",
       "      <th></th>\n",
       "      <th>Data Type</th>\n",
       "      <th>Non-Null Count</th>\n",
       "      <th>Null Count</th>\n",
       "      <th>Unique Values</th>\n",
       "      <th>Sample Value</th>\n",
       "      <th>count</th>\n",
       "      <th>mean</th>\n",
       "      <th>std</th>\n",
       "      <th>min</th>\n",
       "      <th>25%</th>\n",
       "      <th>50%</th>\n",
       "      <th>75%</th>\n",
       "      <th>max</th>\n",
       "    </tr>\n",
       "  </thead>\n",
       "  <tbody>\n",
       "    <tr>\n",
       "      <th>anger</th>\n",
       "      <td>float64</td>\n",
       "      <td>5197</td>\n",
       "      <td>0</td>\n",
       "      <td>2257</td>\n",
       "      <td>0.064134</td>\n",
       "      <td>5197.0</td>\n",
       "      <td>0.164808</td>\n",
       "      <td>0.218574</td>\n",
       "      <td>0.000606</td>\n",
       "      <td>0.064134</td>\n",
       "      <td>0.064134</td>\n",
       "      <td>0.138384</td>\n",
       "      <td>0.989582</td>\n",
       "    </tr>\n",
       "    <tr>\n",
       "      <th>disgust</th>\n",
       "      <td>float64</td>\n",
       "      <td>5197</td>\n",
       "      <td>0</td>\n",
       "      <td>2202</td>\n",
       "      <td>0.273591</td>\n",
       "      <td>5197.0</td>\n",
       "      <td>0.200597</td>\n",
       "      <td>0.212761</td>\n",
       "      <td>0.000821</td>\n",
       "      <td>0.104007</td>\n",
       "      <td>0.104007</td>\n",
       "      <td>0.187477</td>\n",
       "      <td>0.989417</td>\n",
       "    </tr>\n",
       "    <tr>\n",
       "      <th>fear</th>\n",
       "      <td>float64</td>\n",
       "      <td>5197</td>\n",
       "      <td>0</td>\n",
       "      <td>3138</td>\n",
       "      <td>0.928168</td>\n",
       "      <td>5197.0</td>\n",
       "      <td>0.308601</td>\n",
       "      <td>0.342392</td>\n",
       "      <td>0.000442</td>\n",
       "      <td>0.051363</td>\n",
       "      <td>0.093588</td>\n",
       "      <td>0.580464</td>\n",
       "      <td>0.995326</td>\n",
       "    </tr>\n",
       "    <tr>\n",
       "      <th>joy</th>\n",
       "      <td>float64</td>\n",
       "      <td>5197</td>\n",
       "      <td>0</td>\n",
       "      <td>3357</td>\n",
       "      <td>0.932798</td>\n",
       "      <td>5197.0</td>\n",
       "      <td>0.280208</td>\n",
       "      <td>0.317908</td>\n",
       "      <td>0.000550</td>\n",
       "      <td>0.040564</td>\n",
       "      <td>0.087731</td>\n",
       "      <td>0.498713</td>\n",
       "      <td>0.992068</td>\n",
       "    </tr>\n",
       "    <tr>\n",
       "      <th>sadness</th>\n",
       "      <td>float64</td>\n",
       "      <td>5197</td>\n",
       "      <td>0</td>\n",
       "      <td>2026</td>\n",
       "      <td>0.967158</td>\n",
       "      <td>5197.0</td>\n",
       "      <td>0.223608</td>\n",
       "      <td>0.248027</td>\n",
       "      <td>0.001251</td>\n",
       "      <td>0.111690</td>\n",
       "      <td>0.111690</td>\n",
       "      <td>0.177616</td>\n",
       "      <td>0.989361</td>\n",
       "    </tr>\n",
       "    <tr>\n",
       "      <th>surprise</th>\n",
       "      <td>float64</td>\n",
       "      <td>5197</td>\n",
       "      <td>0</td>\n",
       "      <td>2354</td>\n",
       "      <td>0.729602</td>\n",
       "      <td>5197.0</td>\n",
       "      <td>0.174044</td>\n",
       "      <td>0.189109</td>\n",
       "      <td>0.000779</td>\n",
       "      <td>0.078765</td>\n",
       "      <td>0.078765</td>\n",
       "      <td>0.198874</td>\n",
       "      <td>0.983455</td>\n",
       "    </tr>\n",
       "    <tr>\n",
       "      <th>neutral</th>\n",
       "      <td>float64</td>\n",
       "      <td>5197</td>\n",
       "      <td>0</td>\n",
       "      <td>3009</td>\n",
       "      <td>0.646216</td>\n",
       "      <td>5197.0</td>\n",
       "      <td>0.760011</td>\n",
       "      <td>0.204867</td>\n",
       "      <td>0.000981</td>\n",
       "      <td>0.549477</td>\n",
       "      <td>0.838376</td>\n",
       "      <td>0.936846</td>\n",
       "      <td>0.974344</td>\n",
       "    </tr>\n",
       "  </tbody>\n",
       "</table>\n",
       "</div>"
      ],
      "text/plain": [
       "         Data Type  Non-Null Count  Null Count  Unique Values  Sample Value  \\\n",
       "anger      float64            5197           0           2257      0.064134   \n",
       "disgust    float64            5197           0           2202      0.273591   \n",
       "fear       float64            5197           0           3138      0.928168   \n",
       "joy        float64            5197           0           3357      0.932798   \n",
       "sadness    float64            5197           0           2026      0.967158   \n",
       "surprise   float64            5197           0           2354      0.729602   \n",
       "neutral    float64            5197           0           3009      0.646216   \n",
       "\n",
       "           count      mean       std       min       25%       50%       75%  \\\n",
       "anger     5197.0  0.164808  0.218574  0.000606  0.064134  0.064134  0.138384   \n",
       "disgust   5197.0  0.200597  0.212761  0.000821  0.104007  0.104007  0.187477   \n",
       "fear      5197.0  0.308601  0.342392  0.000442  0.051363  0.093588  0.580464   \n",
       "joy       5197.0  0.280208  0.317908  0.000550  0.040564  0.087731  0.498713   \n",
       "sadness   5197.0  0.223608  0.248027  0.001251  0.111690  0.111690  0.177616   \n",
       "surprise  5197.0  0.174044  0.189109  0.000779  0.078765  0.078765  0.198874   \n",
       "neutral   5197.0  0.760011  0.204867  0.000981  0.549477  0.838376  0.936846   \n",
       "\n",
       "               max  \n",
       "anger     0.989582  \n",
       "disgust   0.989417  \n",
       "fear      0.995326  \n",
       "joy       0.992068  \n",
       "sadness   0.989361  \n",
       "surprise  0.983455  \n",
       "neutral   0.974344  "
      ]
     },
     "execution_count": 46,
     "metadata": {},
     "output_type": "execute_result"
    }
   ],
   "source": [
    "# Function to obtain summary of the data\n",
    "def detailed_summary(df):\n",
    "    summary = pd.DataFrame({\n",
    "        'Data Type': df.dtypes,\n",
    "        'Non-Null Count': df.notnull().sum(),\n",
    "        'Null Count': df.isnull().sum(),\n",
    "        'Unique Values': df.nunique(),\n",
    "        'Sample Value': df.apply(lambda x: x.dropna().unique()[0] if x.dropna().any() else None)\n",
    "    })\n",
    "\n",
    "    # Add numeric stats if applicable\n",
    "    numeric_cols = df.select_dtypes(include='number').columns\n",
    "    if not numeric_cols.empty:\n",
    "        stats = df[numeric_cols].describe().T\n",
    "        summary = summary.join(stats, how='left')\n",
    "\n",
    "    return summary\n",
    "\n",
    "detailed_summary(books_emotions[emotion_labels])"
   ]
  },
  {
   "cell_type": "markdown",
   "id": "c129dbea",
   "metadata": {},
   "source": [
    "# Saving Dataset"
   ]
  },
  {
   "cell_type": "code",
   "execution_count": 47,
   "id": "3ae3d4ee",
   "metadata": {},
   "outputs": [],
   "source": [
    "# Save Path\n",
    "folder = \"data\"\n",
    "filename = \"books_classifed_with_emotions.csv\"\n",
    "filepath = os.path.join(folder, filename)\n",
    "\n",
    "# Create folder if it doesn't exist\n",
    "os.makedirs(folder, exist_ok=True)\n",
    "\n",
    "# Saving the file in the data folder\n",
    "books_emotions.to_csv(filepath, index=False)"
   ]
  },
  {
   "cell_type": "code",
   "execution_count": null,
   "id": "401535ea",
   "metadata": {},
   "outputs": [],
   "source": []
  }
 ],
 "metadata": {
  "kernelspec": {
   "display_name": "Python 3",
   "language": "python",
   "name": "python3"
  },
  "language_info": {
   "codemirror_mode": {
    "name": "ipython",
    "version": 3
   },
   "file_extension": ".py",
   "mimetype": "text/x-python",
   "name": "python",
   "nbconvert_exporter": "python",
   "pygments_lexer": "ipython3",
   "version": "3.11.0"
  }
 },
 "nbformat": 4,
 "nbformat_minor": 5
}
