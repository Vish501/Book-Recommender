{
 "cells": [
  {
   "cell_type": "markdown",
   "id": "c730e94a",
   "metadata": {},
   "source": [
    "Super-sizing the thumbnail and if there is no thumbnail using `data/conver-not-found.jpg`"
   ]
  },
  {
   "cell_type": "markdown",
   "id": "0c39b206",
   "metadata": {},
   "source": [
    "# Import"
   ]
  },
  {
   "cell_type": "code",
   "execution_count": null,
   "id": "cab39a4b",
   "metadata": {
    "vscode": {
     "languageId": "plaintext"
    }
   },
   "outputs": [],
   "source": []
  },
  {
   "cell_type": "markdown",
   "id": "148894a7",
   "metadata": {},
   "source": [
    "# Thumbnail"
   ]
  },
  {
   "cell_type": "markdown",
   "id": "1dcd2381",
   "metadata": {},
   "source": []
  }
 ],
 "metadata": {
  "language_info": {
   "name": "python"
  }
 },
 "nbformat": 4,
 "nbformat_minor": 5
}
